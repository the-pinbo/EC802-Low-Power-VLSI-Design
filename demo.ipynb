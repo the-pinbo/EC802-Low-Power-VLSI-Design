{
 "cells": [
  {
   "cell_type": "raw",
   "id": "9559b4a2",
   "metadata": {},
   "source": [
    "---\n",
    "title: 🚀 Demo notebook\n",
    "description: Simple notebook with widgets demo\n",
    "params:\n",
    "    year:\n",
    "        input: slider\n",
    "        label: Please select the year\n",
    "        min: 2000\n",
    "        max: 2100\n",
    "        value: 2022\n",
    "    greetings:\n",
    "        input: select\n",
    "        label: Please select greetings\n",
    "        value: Hello\n",
    "        choices: [Cześć, Hello, Hi, Ciao, Salut]\n",
    "    name:\n",
    "        input: text\n",
    "        label: What is your name?\n",
    "        value: Piotr\n",
    "---"
   ]
  },
  {
   "cell_type": "markdown",
   "id": "d67a2cc2",
   "metadata": {},
   "source": [
    "# 🚀 Demo notebook with greetings 👋"
   ]
  },
  {
   "cell_type": "code",
   "execution_count": null,
   "id": "1957b445",
   "metadata": {},
   "outputs": [],
   "source": [
    "year = 2022\n",
    "greetings = \"Hello\"\n",
    "name = \"Piotr\""
   ]
  },
  {
   "cell_type": "code",
   "execution_count": null,
   "id": "357cd7fa",
   "metadata": {},
   "outputs": [],
   "source": [
    "print(f\"{greetings} {name} in {year}\")"
   ]
  }
 ],
 "metadata": {
  "kernelspec": {
   "display_name": ".venv",
   "language": "python",
   "name": "python3"
  },
  "language_info": {
   "name": "python",
   "version": "3.9.14 (main, Sep 21 2022, 00:00:00) \n[GCC 11.3.1 20220421 (Red Hat 11.3.1-2)]"
  },
  "vscode": {
   "interpreter": {
    "hash": "a1c9fe5af86de7c2deb96009c60a6959ff1ee95f8cafa14a00c635d7e924607e"
   }
  }
 },
 "nbformat": 4,
 "nbformat_minor": 5
}
